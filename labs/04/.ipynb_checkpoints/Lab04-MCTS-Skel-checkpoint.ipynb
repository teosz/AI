{
 "cells": [
  {
   "cell_type": "markdown",
   "metadata": {},
   "source": [
    "# Algoritmi MCTS. Aplicație: Connect Four\n",
    " - Tudor Berariu\n",
    " - Andrei Olaru"
   ]
  },
  {
   "cell_type": "markdown",
   "metadata": {},
   "source": [
    "## Scopul laboratorului\n",
    "\n",
    "Scopul acestui laborator este acela de a implementa un algoritm din familia **MCTS** (_Monte Carlo Tree Search_), și anume **UCT** (_Upper Confidence Bound for Trees_).\n",
    "\n",
    "Pentru a testa algoritmul vom folosi jocul _Connect Four_.\n",
    "\n",
    "Prima parte a laboratorului construiește funcțiile necesare desfășurarea jocului _Connect Four_, iar cea de-a doua parte urmărește implementarea pas cu pas a algoritmului **UCT**.\n",
    "\n",
    "#### Resurse\n",
    "\n",
    "https://en.wikipedia.org/wiki/Monte_Carlo_tree_search\n",
    "\n",
    "[Curs 3 IA, Slides 20-30](http://cs.curs.pub.ro/2016/mod/resource/view.php?id=2484)"
   ]
  },
  {
   "cell_type": "markdown",
   "metadata": {},
   "source": [
    "## Jocul _Connect Four_\n",
    "\n",
    "### Descrierea jocului\n",
    "\n",
    "Jocul _Connect Four_ lucrează cu o matrice verticală de **înălțime 6** și **lățime 7** în care doi jucători dau drumul unor jetoane de culori diferite (un jucător are jetoane roșii, iar celălalt albastre). La fiecare mutare, un jucător alege o coloană din cele 7 și dă drumul jetonului. Acesta _cade_, așezându-se pe prima poziție liberă din acea coloană. Într-o coloană nu se pot așeza mai mult de șase jetoane. Câștigă acel jucător care reușește să așeze *patru* dintre jetoanele lui (de aceeași culoare) într-o linie pe orizontală, verticală sau diagonală.\n",
    "\n",
    "### Reprezentarea stărilor\n",
    "\n",
    "Starea jocului va fi reprezentată printr-un tuplu format din două elemente:\n",
    " - o listă ce va conține 7 liste corespunzătoare celor 7 coloane\n",
    "   + fiecare listă va avea lungimea 6 și va conține 0 (poziție liberă), 1 (jeton roșu) și 2 (jeton albastru)\n",
    "   + poziția 0 din listă corespunde rândului cel mai de jos\n",
    " - indicatorul jucătorului ce trebuie să _mute_: 1 pentru roșu, 2 pentru jucătorul albastru."
   ]
  },
  {
   "cell_type": "code",
   "execution_count": 29,
   "metadata": {
    "collapsed": false
   },
   "outputs": [
    {
     "name": "stdout",
     "output_type": "stream",
     "text": [
      "Starea inițială:\n",
      "|       |\n",
      "|       |\n",
      "|       |\n",
      "|       |\n",
      "|       |\n",
      "|       |\n",
      "+-------+\n",
      "Urmează: 1 - ROȘU\n"
     ]
    }
   ],
   "source": [
    "# Dimensiunile matricei\n",
    "HEIGHT = 6\n",
    "WIDTH = 7\n",
    "\n",
    "# Pozițiile din tuplul ce constituie o stare\n",
    "BOARD = 0\n",
    "NEXT_PLAYER = 1\n",
    "\n",
    "# Jucătorii\n",
    "RED = 1\n",
    "BLUE = 2\n",
    "name = [\"\", \"ROȘU\", \"ALBASTRU\", \"REMIZĂ\"]\n",
    "\n",
    "\n",
    "# Funcție ce întoarce o stare inițială\n",
    "def init_state():\n",
    "    return ([[0 for row in range(HEIGHT)] for col in range(WIDTH)], RED)\n",
    "\n",
    "# Funcție ce afișează o stare\n",
    "def print_state(state):\n",
    "    for row in range(HEIGHT-1, -1, -1):\n",
    "        ch = \" RA\"\n",
    "        l = map(lambda col: ch[state[BOARD][col][row]], range(WIDTH))\n",
    "        print(\"|\" + \"\".join(l) + \"|\")\n",
    "    print(\"+\" + \"\".join(\"-\" * WIDTH) + \"+\")\n",
    "    print(\"Urmează: %d - %s\" % (state[NEXT_PLAYER], name[state[NEXT_PLAYER]]))\n",
    "\n",
    "# Se afișează starea inițială a jocului\n",
    "print(\"Starea inițială:\")\n",
    "print_state(init_state())"
   ]
  },
  {
   "cell_type": "markdown",
   "metadata": {},
   "source": [
    "### Mutările\n",
    "\n",
    "Cum toată informația necesară pentru a descrie o mutare este dată de coloana în care un jucător a ales să își așeze jetonul, o acțiune va fi reprezentată simplu printr-un număr.\n",
    "\n",
    "**Cerința 1:** Completați funcția `get_available_actions(state)` care primește o stare și întoarce acțiunile corecte (o listă cu acele coloane care nu sunt _pline_).\n",
    "\n",
    "Funcția `apply_action(state, action)` este deja implementată (întoarce o stare nouă, nu o modifică pe cea dată ca argument)."
   ]
  },
  {
   "cell_type": "code",
   "execution_count": 50,
   "metadata": {
    "collapsed": false
   },
   "outputs": [
    {
     "name": "stdout",
     "output_type": "stream",
     "text": [
      "|   A   |\n",
      "|   R   |\n",
      "|   A   |\n",
      "|   R   |\n",
      "|  RR   |\n",
      "|  ARA A|\n",
      "+-------+\n",
      "Urmează: 1 - ROȘU\n"
     ]
    },
    {
     "data": {
      "text/plain": [
       "[0, 1, 2, 4, 5, 6]"
      ]
     },
     "execution_count": 50,
     "metadata": {},
     "output_type": "execute_result"
    }
   ],
   "source": [
    "# Funcție ce întoarce acțiunile valide dintr-o stare dată\n",
    "def get_available_actions(state):\n",
    "    return list(filter(lambda key: state[BOARD][key][-1] is 0, range(0, len(state[BOARD]))))\n",
    "\n",
    "from copy import deepcopy\n",
    "from functools import reduce\n",
    "\n",
    "# Funcție ce întoarce starea în care se ajunge prin aplicarea unei acțiuni\n",
    "def apply_action(state, action):\n",
    "    new_board = deepcopy(state[BOARD])\n",
    "    new_board[action][new_board[action].index(0,0)] = state[NEXT_PLAYER]\n",
    "    return (new_board, 3 - state[NEXT_PLAYER])\n",
    "\n",
    "\n",
    "# Se afișează starea la care se ajunge prin aplicarea unor acțiuni\n",
    "somestate = reduce(apply_action, [3, 4, 3, 2, 2, 6, 3, 3, 3, 3], init_state())\n",
    "print_state(somestate)\n",
    "get_available_actions(somestate)"
   ]
  },
  {
   "cell_type": "markdown",
   "metadata": {},
   "source": [
    "### Stările finale\n",
    "\n",
    "Pentru a verifica dacă o stare este finală:\n",
    " - se verifică dacă ultimul jucător care a mutat a câștigat\n",
    " - sau dacă matricea este _plină_\n",
    " \n",
    "Scriem o funcție `is_final(state)` care va întoarce:\n",
    " - `False` dacă starea nu este finală,\n",
    " - `1` dacă a câștigat Roșu,\n",
    " - `2` dacă a câștigat Albastru și\n",
    " - `3` dacă este remiză.\n",
    "\n",
    "Funcția este deja implementată mai jos."
   ]
  },
  {
   "cell_type": "code",
   "execution_count": null,
   "metadata": {
    "collapsed": false
   },
   "outputs": [],
   "source": [
    "# Funcție ce verifică dacă o stare este finală\n",
    "def is_final(state):\n",
    "    # Verificăm dacă matricea este plină\n",
    "    if not any([0 in col for col in state[BOARD]]):\n",
    "        return 3\n",
    "    # Jucătorul care doar ce a mutat ar putea să fie câștigător\n",
    "    player = 3 - state[NEXT_PLAYER]\n",
    "    \n",
    "    ok = lambda pos: all([state[BOARD][c][r] == player for (r,c) in pos])\n",
    "    # Veificăm verticale\n",
    "    for row in range(HEIGHT):\n",
    "        for col in range(WIDTH - 4):\n",
    "            if ok([(row, col + i) for i in range(4)]):\n",
    "                return player\n",
    "    # Verificăm orizontale\n",
    "    for col in range(WIDTH):\n",
    "        for row in range(HEIGHT-4):\n",
    "            if ok([(row + i, col) for i in range(4)]):\n",
    "                return player\n",
    "    # Verificăm diagonale\n",
    "    for col in range(WIDTH-4):\n",
    "        for row in range(HEIGHT-4):\n",
    "            if ok([(row + i, col+i) for i in range(4)]):\n",
    "                return player\n",
    "    for col in range(WIDTH-4):\n",
    "        for row in range(HEIGHT-4):\n",
    "            if ok([(row + i, col+4-i) for i in range(4)]):\n",
    "                return player\n",
    "    return False"
   ]
  },
  {
   "cell_type": "code",
   "execution_count": null,
   "metadata": {
    "collapsed": false
   },
   "outputs": [],
   "source": [
    "# Afișăm o stare finală oarecare\n",
    "from random import choice\n",
    "\n",
    "rand_state = init_state()\n",
    "while not is_final(rand_state):\n",
    "    actions = get_available_actions(rand_state)\n",
    "    if not actions:\n",
    "        break\n",
    "    action = choice(actions)\n",
    "    rand_state = apply_action(rand_state, action)\n",
    "\n",
    "print_state(rand_state)\n",
    "print(\"Învingător: %s\" % (name[is_final(rand_state)]))"
   ]
  },
  {
   "cell_type": "code",
   "execution_count": null,
   "metadata": {
    "collapsed": false
   },
   "outputs": [],
   "source": [
    "# Exemplu: Se afișează starea obținută prin aplicarea unor acțiuni\n",
    "all_actions = [1, 2, 1, 3, 1, 4, 2, 5]\n",
    "some_state = reduce(apply_action, all_actions, init_state())\n",
    "print_state(some_state)\n",
    "print(\"Învingător: %s\" % (name[is_final(some_state)]))"
   ]
  },
  {
   "cell_type": "markdown",
   "metadata": {},
   "source": [
    "## Algoritmul UCT\n",
    "\n",
    "Algoritmii din familia MCTS conțin patru etape importante:\n",
    " - **selecție** - o strategie de alegere a unei acțiuni pentru a exploata\n",
    " - **extindere** - construirea unui nod nou în arbore\n",
    " - **simulare** - desfășurarea unui joc în mod aleator către o stare finală\n",
    " - **propagare înapoi** - actualizarea statisticilor pentru toate nodurile\n",
    "\n",
    "\n",
    "### Reprezentarea unui nod\n",
    "\n",
    "Un nod din arborele de stări va fi un dicționar ce conține:\n",
    " - numărul de vizitări `N` -- de câte ori s-au realizat simulări din acel nod sau dintr-un descendent al său.\n",
    " - valoarea estimată `Q` -- o indicație a calității nodului, bazat pe numărul jocurilor câștigate pornind din acel nod.\n",
    " - o referință către nodul părinte\n",
    " - lista copiilor -- un dicționar ce conține pentru fiecare acțiune o legătură către nodul următor\n",
    "\n",
    "Exemplu de nod corespunzător unei stări.\n",
    "\n",
    "    {'N': 7, 'Q': 2.5, 'parent': None, 'actions': {0: {'N': 3, ...}, 1: {'N': 4, ...}}}\n",
    "    \n",
    "### Desfășurarea algoritmului\n",
    "\n",
    "1. Dacă algoritmul pornește cu un arbore gol (fără memorie), atunci se construiește un nod nou.\n",
    "   Altfel se alege subarborele corespunzător ultimei acțiuni a adversarului. (`TODO3`)\n",
    "\n",
    "2. Până când se atinge limita bugetului de calcul:\n",
    "  1. pornind din rădăcină, se alege succesiv un nod următor până când se atinge o stare finală sau un nod din care nu s-au explorat toate acțiunile posibile (`TODO2` și `TODO4`)\n",
    "  2. pentru un nod care nu este final și din care nu s-au explorat toate acțiunile, se construiește un nod-copil pentru una dintre acțiunile neexplorate\n",
    "  3. se simulează un joc pornind din nodul nou până într-o stare finală (`TODO5`)\n",
    "  4. se evaluează starea finală și se calculează o recompensă (`TODO6`)\n",
    "  5. se propagă înapoi acea recompensă, actualizându-se și statisticile (numărul de vizite) pentru fiecare nod până la rădăcină (`TODO7`)"
   ]
  },
  {
   "cell_type": "code",
   "execution_count": null,
   "metadata": {
    "collapsed": true
   },
   "outputs": [],
   "source": [
    "# Constante\n",
    "\n",
    "N = 'N'\n",
    "Q = 'Q'\n",
    "PARENT = 'parent'\n",
    "ACTIONS = 'actions'"
   ]
  },
  {
   "cell_type": "markdown",
   "metadata": {},
   "source": [
    "### Afișarea unui arbore"
   ]
  },
  {
   "cell_type": "code",
   "execution_count": null,
   "metadata": {
    "collapsed": false
   },
   "outputs": [],
   "source": [
    "def print_tree(tree, indent = 0):\n",
    "    if not tree:\n",
    "        return\n",
    "    tab = \"\".join(\" \" * indent)\n",
    "    print(\"%sN = %d, Q = %f\" % (tab, tree[N], tree[Q]))\n",
    "    for a in tree[ACTIONS]:\n",
    "        print(\"%s %d ==> \" % (tab, a))\n",
    "        print_tree(tree[ACTIONS][a], indent + 3)\n",
    "        \n",
    "def number_of_nodes(tree):\n",
    "    if not tree:\n",
    "        return 0\n",
    "    no = 1\n",
    "    for child in tree[ACTIONS].values():\n",
    "        no += number_of_nodes(child)\n",
    "    return no"
   ]
  },
  {
   "cell_type": "markdown",
   "metadata": {},
   "source": [
    "### Algoritm"
   ]
  },
  {
   "cell_type": "code",
   "execution_count": null,
   "metadata": {
    "collapsed": true
   },
   "outputs": [],
   "source": [
    "# Funcție ce întoarce un nod nou,\n",
    "# eventual copilul unui nod dat ca argument\n",
    "def init_node(parent = None):\n",
    "    return {N: 0, Q: 0, PARENT: parent, ACTIONS: {}}"
   ]
  },
  {
   "cell_type": "code",
   "execution_count": 51,
   "metadata": {
    "collapsed": false
   },
   "outputs": [
    {
     "name": "stdout",
     "output_type": "stream",
     "text": [
      "5\n",
      "3\n"
     ]
    }
   ],
   "source": [
    "from math import sqrt, log\n",
    "\n",
    "CP = 1.0 / sqrt(2.0)\n",
    "\n",
    "# Funcție ce alege o acțiune dintr-un nod\n",
    "def select_action(node, c = CP):\n",
    "    N_node = node[N]\n",
    "\n",
    "    values = [(key, action[Q] / action[N]  +  c * sqrt(2 * log(N_node) / action[N])) for key, action in node[ACTIONS].items()]\n",
    "    # TODO <2>\n",
    "    # Se caută acțiunea a care maximizează expresia:\n",
    "    #\n",
    "    return max(values, key=lambda value: value[1] )[0];\n",
    "\n",
    "# Scurtă testare\n",
    "test_root = {N: 6, Q: 0.75, PARENT: None, ACTIONS: {}}\n",
    "test_root[ACTIONS][3] = {N: 4, Q: 0.9, PARENT: test_root, ACTIONS: {}}\n",
    "test_root[ACTIONS][5] = {N: 2, Q: 0.1, PARENT: test_root, ACTIONS: {}}\n",
    "\n",
    "print(select_action(test_root, CP))  # ==> 5 (0.8942 < 0.9965)\n",
    "print(select_action(test_root, 0.3)) # ==> 3 (0.50895 > 0.45157)"
   ]
  },
  {
   "cell_type": "code",
   "execution_count": 48,
   "metadata": {
    "collapsed": false
   },
   "outputs": [],
   "source": [
    "# Algoritmul MCTS (UCT)\n",
    "#  state0 - starea pentru care trebuie aleasă o acțiune\n",
    "#  tree - un arbore din explorările anterioare\n",
    "#  budget - numărul de iterații permis\n",
    "#  opponent_s_action - ultima acțiune a adversarului\n",
    "\n",
    "def mcts(state0, tree, budget, opponent_s_action = None):\n",
    "    # TODO <3>\n",
    "    # DACĂ există un arbore construit anterior ȘI\n",
    "    #   acesta are un copil ce corespunde ultimei acțiuni a adversarului,\n",
    "    # ATUNCI acel copil va deveni nodul de început pentru algoritm.\n",
    "    # ALTFEL, arborele de start este un nod gol.\n",
    "    if tree is not None and opponent_s_action in tree[ACTIONS].keys():\n",
    "        tree = tree[ACTIONS][opponent_s_action]\n",
    "    else:\n",
    "        tree = init_node(tree)\n",
    "    \n",
    "    \n",
    "    #---------------------------------------------------------------\n",
    "\n",
    "    for x in range(budget):\n",
    "        # Punctul de start al simulării va fi rădăcina de start\n",
    "        state = state0\n",
    "        node = tree\n",
    "\n",
    "        # TODO <4>\n",
    "        # Coborâm în arbore până când ajungem la o stare finală\n",
    "        # sau la un nod cu acțiuni neexplorate.\n",
    "        # Variabilele state și node se 'mută' împreună.\n",
    "        while not (is_final(node) or set(get_available_actions(node)).issubset(set(node[ACTIONS].keys())):\n",
    "            best_action = select_action(node)\n",
    "            node = node[ACTIONS][best_action]\n",
    "            state = apply_action(state, best_action)\n",
    "        #---------------------------------------------------------------\n",
    "        \n",
    "        # TODO <5>\n",
    "        # Dacă am ajuns într-un nod care nu este final și din care nu s-au\n",
    "        # `încercat` toate acțiunile, construim un nod nou.\n",
    "        if not is_final(state):\n",
    "            actions = [action for action in get_available_actions(node) action is not node[ACTIONS]]\n",
    "            choosen = choice(actions)\n",
    "            node = node[ACTIONS][choosen] = init_node(node)\n",
    "            state = apply_action(state, choosen)\n",
    "\n",
    "        #---------------------------------------------------------------\n",
    "        \n",
    "        # TODO <6>\n",
    "        # Se simulează o desfășurare a jocului până la ajungerea într-o\n",
    "        # starea finală. Se evaluează recompensa în acea stare.\n",
    "        while not is_final(state):\n",
    "            \n",
    "        \n",
    "        winner = is_final(state)\n",
    "        if winner == state0[NEXT_PLAYER]:\n",
    "            reward = 1\n",
    "        elif winner == (3 - state0[NEXT_PLAYER]):\n",
    "            reward = 0.0\n",
    "        elif winner == 3:\n",
    "            reward = 0.25\n",
    "        else:\n",
    "            reward = 0.5\n",
    "        #---------------------------------------------------------------\n",
    "\n",
    "        # TODO <7>\n",
    "        # Se actualizează toate nodurile de la node către rădăcină:\n",
    "        #  - se incrementează valoarea N din fiecare nod\n",
    "        #  - se adaugă recompensa la valorea Q\n",
    "            # TODO\n",
    "        \n",
    "        #---------------------------------------------------------------\n",
    "\n",
    "    if tree:\n",
    "        final_action = select_action(tree, 0.0)\n",
    "        return (final_action, tree[ACTIONS][final_action])\n",
    "    # Acest cod este aici doar ca să nu dea erori testele mai jos; în mod normal tree nu trebuie să fie None\n",
    "    if get_available_actions(state0):\n",
    "        return (get_available_actions(state0)[0], init_node())\n",
    "    return (0, init_node())"
   ]
  },
  {
   "cell_type": "code",
   "execution_count": 49,
   "metadata": {
    "collapsed": false
   },
   "outputs": [
    {
     "name": "stdout",
     "output_type": "stream",
     "text": [
      "None\n",
      "0\n"
     ]
    }
   ],
   "source": [
    "# Testare MCTS\n",
    "(action, tree) = mcts(init_state(), None, 20, None)\n",
    "print(action)\n",
    "print_tree(tree['parent'])"
   ]
  },
  {
   "cell_type": "markdown",
   "metadata": {},
   "source": [
    "## Evaluarea algoritmului\n",
    "\n",
    "Funcția de mai jos opune doi jucători ce folosesc algoritmul UCT pentru a decide asupra acțiunii dintr-o stare."
   ]
  },
  {
   "cell_type": "code",
   "execution_count": null,
   "metadata": {
    "collapsed": false
   },
   "outputs": [],
   "source": [
    "def play_games(games_no, budget1, budget2, verbose = False):\n",
    "    # Efortul de căutare al jucătorilor\n",
    "    budget = [budget1, budget2]\n",
    "    \n",
    "    score = {p: 0 for p in name}\n",
    "        \n",
    "    for i in range(games_no):\n",
    "        # Memoriile inițiale\n",
    "        memory = [None, None]\n",
    "        \n",
    "        # Se desfășoară jocul\n",
    "        state = init_state()\n",
    "        last_action = None\n",
    "    \n",
    "        while not is_final(state):\n",
    "            p = state[NEXT_PLAYER] - 1\n",
    "            (action, memory[p]) = mcts(state, memory[p], budget[p], last_action)\n",
    "            state = apply_action(state, action)\n",
    "            last_action = action\n",
    "        \n",
    "        # Cine a câștigat?\n",
    "        winner = is_final(state)\n",
    "        score[name[winner]] += + 1\n",
    "        \n",
    "        # Afișăm\n",
    "        if verbose:\n",
    "            print_state(state)\n",
    "            if winner == 3:\n",
    "                print(\"Remiză.\")\n",
    "            else:\n",
    "                print(\"A câștigat \", name[winner])\n",
    "\n",
    "    # Afișează scorul final\n",
    "    print(\"Scor final: %s.\" % (str(score)))"
   ]
  },
  {
   "cell_type": "code",
   "execution_count": null,
   "metadata": {
    "collapsed": false
   },
   "outputs": [],
   "source": [
    "# play_games(N, BR, BA, VERBOSE) - rulează N jocuri, cu bugetele BR pt ROȘU și BA pt ALBASTRU\n",
    "play_games(5, 2, 30, True) # ne așteptăm să câștige ALBASTRU\n",
    "#play_games(5, 30, 2, True) # ne așteptăm să câștige ROȘU"
   ]
  },
  {
   "cell_type": "code",
   "execution_count": null,
   "metadata": {
    "collapsed": true
   },
   "outputs": [],
   "source": []
  }
 ],
 "metadata": {
  "kernelspec": {
   "display_name": "Python 3",
   "language": "python",
   "name": "python3"
  },
  "language_info": {
   "codemirror_mode": {
    "name": "ipython",
    "version": 3
   },
   "file_extension": ".py",
   "mimetype": "text/x-python",
   "name": "python",
   "nbconvert_exporter": "python",
   "pygments_lexer": "ipython3",
   "version": "3.4.3"
  }
 },
 "nbformat": 4,
 "nbformat_minor": 0
}
