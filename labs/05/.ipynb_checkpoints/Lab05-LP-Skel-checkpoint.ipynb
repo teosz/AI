{
 "cells": [
  {
   "cell_type": "markdown",
   "metadata": {},
   "source": [
    "# Logica cu predicate (1). Reprezentare & Unificare\n",
    " - Andrei Olaru\n",
    " - Tudor Berariu\n"
   ]
  },
  {
   "cell_type": "markdown",
   "metadata": {},
   "source": [
    "## Scopul laboratorului\n",
    "\n",
    "Scopul acestui laborator este familiarizarea cu reprezentarea logică a cunoștințelor și cu mecanismele de lucru cu cunoștințe reprezentate prin logica cu predicate de ordinul I (LPOI / FOPL).\n",
    "\n",
    "În cadrul laboratorului, va fi necesar să vă alegeți o reprezentare internă pentru elementele din FOPL, și apoi să implementați procesul de unificare între două formule din logica cu predicate. \n",
    "\n",
    "\n",
    "#### Resurse\n",
    "\n",
    "* Cursul 5 de IA, slides 25-27\n",
    "* https://en.wikipedia.org/wiki/Unification_(computer_science)#Examples_of_syntactic_unification_of_first-order_terms\n",
    "* algoritmul lui Robinson (vezi pdf)\n"
   ]
  },
  {
   "cell_type": "markdown",
   "metadata": {
    "collapsed": true
   },
   "source": [
    "## Reprezentare\n",
    "\n",
    "În LPOI trebuie să putem reprezenta următoarele elemente:\n",
    "* _termen_ -- poate fi luat ca argument de către un predicat. Un termen poate fi:\n",
    "  * o constantă -- are o valoare\n",
    "  * o variabilă -- are un nume și poate fi legată la o valoare\n",
    "  * un apel de funcție -- are numele funcției și argumentele (e.g. add[1, 2, 3]). Se evaluează la o valoare. Argumentele funcției sunt tot termeni.\n",
    "    * Notă: În text vom scrie apelurile de funcții cu paranteze drepte, pentru a le deosebi de atomi.\n",
    "* _formulă (propoziție) logică_ -- se poate evalua la o valoare de adevăr, într-o interpretare (o anumită legare a numelor la o semantică). O formulă poate fi:\n",
    "  * un atom -- aplicarea unui predicat (cu un nume) peste o serie de termeni (argumentele sale)\n",
    "  * negarea unei formule\n",
    "  * un conector logic între două propoziții -- conjuncție sau disjuncție\n",
    "  \n",
    "\n",
    "### Cerința 1\n",
    "\n",
    "Creați o reprezentare internă pentru formule logice. Pentru această reprezentare, vom avea:\n",
    "* o serie de funcții care o construiesc -- `make_*` și `replace_args`\n",
    "* o serie de funcții care o verifică -- `is_*`\n",
    "* o serie de funcții care accesează elementele din reprezentare -- `get_*`\n",
    "\n",
    "\n",
    "**Important:** Pentru a lucra mai ușor cu formulele, vom considera că pentru apelurile de funcții și pentru toate formulele (atât atomi cât și propoziții compuse), reprezentarea are un _head_ (după caz, numele funcției, numele predicatului, sau conectorul logic) și o listă de argumente (după caz, lista de argumente a funcției, lista de argumente a predicatului, o listă cu propoziția negată, sau lista de propoziții unite de conectorul logic (2 sau mai multe)).\n",
    "\n",
    "**Notă:** la început, implementați funcțiile de verificare ca și cum argumentele date are fi reprezentate corect (deci doar pentru a deosebi între diversele tipuri de reprezentare). Ulterior, verificați și ca argumentele date să fie într-adevăr corect reprezentate."
   ]
  },
  {
   "cell_type": "code",
   "execution_count": 1,
   "metadata": {
    "collapsed": false
   },
   "outputs": [],
   "source": [
    "from operator import add\n",
    "from Lab05tester import test_batch\n",
    "from copy import deepcopy "
   ]
  },
  {
   "cell_type": "code",
   "execution_count": 2,
   "metadata": {
    "collapsed": false
   },
   "outputs": [
    {
     "name": "stdout",
     "output_type": "stream",
     "text": [
      ">>> Test batch [0]\n",
      "Test 0: Failed, got <False>, should be <True>. Test was <is_term(make_const('A'))>.\n",
      "Test 1: Failed, got <False>, should be <True>. Test was <is_term(make_var('x'))>.\n",
      "Test 2: OK\n",
      "Test 3: Failed, got <False>, should be <True>. Test was <is_term(make_function_call(add, make_const(2), make_var('x')))>.\n",
      "Test 4: OK\n",
      "Test 5: OK\n",
      "Test 6: Failed, got <False>, should be <True>. Test was <is_atom(make_atom('P', make_var('x')))>.\n",
      "Test 7: OK\n",
      "Test 8: Failed, got <False>, should be <True>. Test was <is_sentence(make_neg(make_atom('P', make_var('x'))))>.\n",
      "Test 9: OK\n",
      "Test 10: Failed, got <None>, should be <2>. Test was <get_value(make_const(2))>.\n",
      "Test 11: Failed, got <None>, should be <X>. Test was <get_name(make_var('X'))>.\n",
      "Test 12: OK\n",
      "Test 13: Failed, got <None>, should be <P>. Test was <get_head(make_atom('P'))>.\n",
      "Test 14: Failed, got <None>, should be <<built-in function add>>. Test was <get_head(make_function_call(add, make_const(2), make_var('x')))>.\n",
      "Test 15 : N/A. Get args returns a list that is shorter than 2. . Test was <is_atom(get_args(make_and(make_atom('P', make_var('X')), make_atom('Q', make_const('5'))))[0])>.\n",
      "Test 16 : N/A. Get args returns a list that is shorter than 2. . Test was <is_atom(get_args(make_and(make_atom('P', make_var('X')), make_atom('Q', make_const('5'))))[1])>.\n",
      "Test 17 : N/A. Get args returns a list that is shorter than 2. . Test was <is_atom(get_args(make_and(make_atom('P', make_var('X')), make_atom('Q', make_var('Y')), make_atom('T', make_var('Z'))))[2])>.\n",
      "Test 18 : N/A. Get args returns a list that is shorter than 2. . Test was <is_variable(get_args(get_args(make_and(make_atom('P', make_var('X')), make_atom('Q', make_const('5'))))[0])[0])>.\n",
      "Test 19 : N/A. Get args returns a list that is shorter than 2. . Test was <is_constant(get_args(get_args(make_and(make_atom('P', make_var('X')), make_atom('Q', make_const('5'))))[1])[0])>.\n",
      "Test 20 : get_args(make_atom('P', make_var('X'))) . Test was <get_name(get_args(make_atom('P', make_var('X')))[0])>.\n",
      "Test 21 : get_args(replace_args(make_atom('P', make_var('X')), [make_const(2)])) . Test was <is_constant(get_args(replace_args(make_atom('P', make_var('X')), [make_const(2)]))[0])>.\n",
      "Test 22 : get_args(replace_args(make_atom('P', make_var('X')), [make_const(2)])) . Test was <get_value(get_args(replace_args(make_atom('P', make_var('X')), [make_const(2)]))[0])>.\n",
      "Test 23 : N/A. Replaced arguments not a list. . Test was <get_value(get_args(get_args(replace_args(make_and(make_atom('P', make_var('x')), make_atom('Q', make_var('x'))), [make_atom('P', make_const(1)), make_atom('Q', make_const(1))]))[0])[0])>.\n",
      ">>>  6 / 24 tests successful.\n"
     ]
    }
   ],
   "source": [
    "TYPE = \"type\"\n",
    "NAME = \"name\"\n",
    "ARGS = \"args\"\n",
    "\n",
    "\n",
    "### Reprezentare - construcție\n",
    "\n",
    "# întoarce un termen constant, cu valoarea specificată.\n",
    "def make_const(value):\n",
    "    return {TYPE: \"const\", ARGS: value}\n",
    "\n",
    "# întoarce un termen care este o variabilă, cu numele specificat.\n",
    "def make_var(name):\n",
    "    return {TYPE: \"var\", ARGS: value}\n",
    "\n",
    "# întoarce un termen care este un apel al funcției cu numele specificat, pe restul argumentelor date.\n",
    "# E.g. pentru a construi termenul add[1, 2, 3] vom apela make_function_call(add, 1, 2, 3)\n",
    "# !! ATENȚIE: python dă args ca tuplu cu restul argumentelor, nu ca listă. Se poate converti la listă cu list(args)\n",
    "def make_function_call(name, *args):\n",
    "    return {TYPE: 'funct', NAME: name, ARGS: list(*args)}\n",
    "\n",
    "# întoarce o formulă formată dintr-un atom care este aplicarea predicatului dat pe restul argumentelor date.\n",
    "# !! ATENȚIE: python dă args ca tuplu cu restul argumentelor, nu ca listă. Se poate converti la listă cu list(args)\n",
    "def make_atom(predicate, *args):\n",
    "    return {TYPE: 'atom', NAME: predicate, ARGS: list(*args)}\n",
    "\n",
    "# întoarce o formulă care este negarea propoziției date.\n",
    "# get_args(make_neg(s1)) va întoarce [s1]\n",
    "def make_neg(sentence):\n",
    "    return {TYPE: 'sentence', NAME: 'neg', ARGS: deepcopy(sentence)}\n",
    "\n",
    "# întoarce o formulă care este conjuncția propozițiilor date (2 sau mai multe).\n",
    "# e.g. apelul make_and(s1, s2, s3, s4) va întoarce o structură care este conjuncția s1 ^ s2 ^ s3 ^ s4\n",
    "#  și get_args pe această structură va întoarce [s1, s2, s3, s4]\n",
    "def make_and(sentence1, sentence2, *others):\n",
    "    return {TYPE: 'sentence', NAME: 'and', ARGS: [sentence1, sentence2] + list(others)}\n",
    "\n",
    "\n",
    "# întoarce o formulă care este disjuncția propozițiilor date.\n",
    "# e.g. apelul make_or(s1, s2, s3, s4) va întoarce o structură care este disjuncția s1 V s2 V s3 V s4\n",
    "#  și get_args pe această structură va întoarce [s1, s2, s3, s4]\n",
    "def make_or(sentence1, sentence2, *others):\n",
    "    return {TYPE: 'sentence', NAME: 'or', ARGS: [sentence1, sentence2] + list(others)}\n",
    "    return None\n",
    "\n",
    "# întoarce o copie a formulei sau apelul de funcție date, în care argumentele au fost înlocuite\n",
    "#  cu cele din lista new_args.\n",
    "# e.g. pentru formula p(x, y), înlocuirea argumentelor cu lista [1, 2] va rezulta în formula p(1, 2).\n",
    "# Noua listă de argumente trebuie să aibă aceeași lungime cu numărul de argumente inițial din formulă.\n",
    "def replace_args(formula, new_args):\n",
    "    new_formula = deepcopy(formula)\n",
    "    new_formula[ARGS] = new_args\n",
    "    return new_formula\n",
    "\n",
    "    \n",
    "    \n",
    "### Reprezentare - verificare\n",
    "\n",
    "# întoarce adevărat dacă f este un termen.\n",
    "def is_term(f):\n",
    "    return is_constant(f) or is_variable(f) or is_function_call(f)\n",
    "\n",
    "# întoarce adevărat dacă f este un termen constant.\n",
    "def is_constant(f):\n",
    "    return f[TYPE] is 'const'\n",
    "\n",
    "# întoarce adevărat dacă f este un termen ce este o variabilă.\n",
    "def is_variable(f):\n",
    "    return f[TYPE] is 'var'\n",
    "\n",
    "# întoarce adevărat dacă f este un apel de funcție.\n",
    "def is_function_call(f):\n",
    "    return f[TYPE] is 'funct'\n",
    "\n",
    "# întoarce adevărat dacă f este un atom (aplicare a unui predicat).\n",
    "def is_atom(f):\n",
    "    return f[TYPE] is 'atom'\n",
    "\n",
    "\n",
    "# întoarce adevărat dacă f este o propoziție validă.\n",
    "def is_sentence(f):\n",
    "    return f[TYPE] is 'sentence'\n",
    "\n",
    "# întoarce adevărat dacă formula f este ceva ce are argumente.\n",
    "def has_args(f):\n",
    "    return is_function_call(f) or is_sentence(f)\n",
    "\n",
    "\n",
    "### Reprezentare - verificare\n",
    "\n",
    "# pentru constante (de verificat), se întoarce valoarea constantei; altfel, None.\n",
    "def get_value(f):\n",
    "    if f[TYPE] is 'const':\n",
    "        return f[VALUE]\n",
    "    return None\n",
    "\n",
    "# pentru variabile (de verificat), se întoarce numele variabilei; altfel, None.\n",
    "def get_name(f):\n",
    "    # TODO\n",
    "    return None\n",
    "\n",
    "# pentru apeluri de funcții, se întoarce conversia în șir de caractere a referinței la funcție;\n",
    "# pentru atomi, se întoarce numele predicatului; \n",
    "# pentru propoziții compuse, se întoarce un șir de caractere care reprezintă conectorul logic (e.g. ~, A sau V);\n",
    "# altfel, None\n",
    "def get_head(f):\n",
    "    # TODO\n",
    "    return None\n",
    "\n",
    "# pentru propoziții sau apeluri de funcții, se întoarce lista de argumente; altfel, None.\n",
    "# Vezi și \"Important:\", mai sus.\n",
    "def get_args(f):\n",
    "    # TODO\n",
    "    return []\n",
    "\n",
    "test_batch(0, globals())"
   ]
  },
  {
   "cell_type": "code",
   "execution_count": 3,
   "metadata": {
    "collapsed": false
   },
   "outputs": [
    {
     "name": "stdout",
     "output_type": "stream",
     "text": [
      "???\n"
     ]
    }
   ],
   "source": [
    "# Afișează formula f. Dacă argumentul return_result este True, rezultatul nu este afișat la consolă, ci întors.\n",
    "def print_formula(f, return_result = False):\n",
    "    ret = \"\"\n",
    "    if is_term(f):\n",
    "        if is_constant(f):\n",
    "            ret += str(get_value(f))\n",
    "        elif is_variable(f):\n",
    "            ret += \"?\" + get_name(f)\n",
    "        elif is_function_call(f):\n",
    "            ret += get_head(f) + \"[\" + \"\".join([print_formula(arg, True) + \",\" for arg in get_args(f)])[:-1] + \"]\"\n",
    "        else:\n",
    "            ret += \"???\"\n",
    "    elif is_atom(f):\n",
    "        ret += get_head(f) + \"(\" + \"\".join([print_formula(arg, True) + \", \" for arg in get_args(f)])[:-2] + \")\"\n",
    "    elif is_sentence(f):\n",
    "        # negation, conjunction or disjunction\n",
    "        args = get_args(f)\n",
    "        if len(args) == 1:\n",
    "            ret += get_head(f) + print_formula(args[0], True)\n",
    "        else:\n",
    "            ret += \"(\" + get_head(f) + \"\".join([\" \" + print_formula(arg, True) for arg in get_args(f)]) + \")\"\n",
    "    else:\n",
    "        ret += \"???\"\n",
    "    if return_result:\n",
    "        return ret\n",
    "    print(ret)\n",
    "    return\n",
    "    \n",
    "# Verificare construcție și afișare\n",
    "# Ar trebui ca ieșirea să fie similară cu: (A (V ~P(?x) Q(?x)) T(?y, <built-in function add>[1,2]))\n",
    "formula1 = make_and(\n",
    "    make_or(make_neg(make_atom(\"P\", make_var(\"x\"))), make_atom(\"Q\", make_var(\"x\"))),\n",
    "    make_atom(\"T\", make_var(\"y\"), make_function_call(add, make_const(1), make_const(2))))\n",
    "print_formula(formula1)"
   ]
  },
  {
   "cell_type": "markdown",
   "metadata": {},
   "source": [
    "## Unificare\n",
    "\n",
    "Unificarea a două formule logice ce conțin variabile înseamnă găsirea unei substituții astfel încât aplicarea acesteia pe cele două formule să rezulte în două formule identice.\n",
    "\n",
    "O substituție conține asocieri de variabile la termeni. La aplicarea unei substituții, variabilele care apar în substituție sunt înlocuite, în formulă, cu termenii asociați, până când nu se mai poate face nicio înlocuire."
   ]
  },
  {
   "cell_type": "code",
   "execution_count": 4,
   "metadata": {
    "collapsed": false
   },
   "outputs": [
    {
     "name": "stdout",
     "output_type": "stream",
     "text": [
      ">>> Test batch [1]\n",
      "Test 0: OK\n",
      "Test 1: OK\n",
      "Test 2: OK\n",
      "Test 3: OK\n",
      "Test 4: OK\n",
      ">>>  5 / 5 tests successful.\n"
     ]
    }
   ],
   "source": [
    "# Aplică în formula f toate elementele din substituția dată și întoarce formula rezultată\n",
    "def substitute(f, substitution):\n",
    "    if substitution is None:\n",
    "        return None\n",
    "    if is_variable(f) and (get_name(f) in substitution):\n",
    "        return substitute(substitution[get_name(f)], substitution)\n",
    "    if has_args(f):\n",
    "        return replace_args(f, [substitute(arg, substitution) for arg in get_args(f)])\n",
    "    return f\n",
    "\n",
    "def test_formula(x, copyy = False):\n",
    "    fun = make_function_call(add, make_const(1), make_const(2))\n",
    "    return make_and(make_or(make_neg(make_atom(\"P\", make_const(x))), make_atom(\"Q\", make_const(x))), \\\n",
    "                    make_atom(\"T\", fun if copyy else make_var(\"y\"), fun))\n",
    "\n",
    "# Test (trebuie să se vadă efectele substituțiilor în formulă)\n",
    "test_batch(1, globals())"
   ]
  },
  {
   "cell_type": "markdown",
   "metadata": {},
   "source": [
    "### Cerința 2\n",
    "\n",
    "Implementați funcțiile `occur_check` și `unify`, conform algoritmului lui Robinson (vezi pdf)."
   ]
  },
  {
   "cell_type": "code",
   "execution_count": 5,
   "metadata": {
    "collapsed": false
   },
   "outputs": [
    {
     "name": "stdout",
     "output_type": "stream",
     "text": [
      ">>> Test batch [2]\n",
      "Test 0: Failed, got <None>, should be <False>. Test was <occur_check ??? in ???>.\n",
      "Test 1: Failed, got <None>, should be <False>. Test was <occur_check ??? in ???>.\n",
      "Test 2: Failed, got <None>, should be <True>. Test was <occur_check ??? in ???>.\n",
      "Test 3: Failed, got <None>, should be <True>. Test was <occur_check ??? in ??? under {x -> ???}>.\n",
      "Test 4: Failed, got <None>, should be <True>. Test was <occur_check ??? in ??? under {x -> ???, y -> ???}>.\n",
      "Test 5: Failed, got <None>, should be <True>. Test was <occur_check ??? in ??? under {x -> ???, y -> ???}>.\n",
      "Test 6: Failed, got <None>, should be <False>. Test was <occur_check ??? in ??? under {x -> ???, y -> ???}>.\n",
      ">>>  0 / 7 tests successful.\n"
     ]
    }
   ],
   "source": [
    "from functools import reduce\n",
    "\n",
    "# Verifică dacă variabila v poate fi înlocuită cu termenul t, având în vedere substituția subst.\n",
    "# Întoarce True dacă v poate fi înlocuită cu t, și False altfel.\n",
    "# Verificarea eșuează dacă, având în vedere și substituția, variabila v apare în \n",
    "#  termenul t (deci înlocuirea lui v ar fi un proces infinit).\n",
    "def occur_check(v, t, subst):\n",
    "    # TODO\n",
    "    return None\n",
    "\n",
    "# Test!\n",
    "test_batch(2, globals())"
   ]
  },
  {
   "cell_type": "code",
   "execution_count": 6,
   "metadata": {
    "collapsed": false
   },
   "outputs": [
    {
     "name": "stdout",
     "output_type": "stream",
     "text": [
      ">>> Test batch [3]\n",
      "Test 0: Failed, got <{}>, should be <False>. Test was <unify ??? with ???>.\n",
      "Test 1: Failed, got <{}>, should be <{x -> ???}>. Test was <unify ??? with ???>.\n",
      "Test 2: Failed, got <{}>, should be <{x -> ???}>. Test was <unify ??? with ???>.\n",
      "Test 3: Failed, got <{}>, should be <{x -> ???}>. Test was <unify ??? with ???>.\n",
      "Test 4: Failed, got <{}>, should be <{x -> ???}>. Test was <unify ??? with ???>.\n",
      "Test 5: Failed, got <{}>, should be <{x -> ???}>. Test was <unify ??? with ???>.\n",
      "Test 6: Failed, got <{}>, should be <{z -> ???, y -> ???, x -> ???}>. Test was <unify ??? with ???>.\n",
      "Test 7: Failed, got <{}>, should be <{x -> ???, y -> ???}>. Test was <unify ??? with ???>.\n",
      "Test 8: Failed, got <{}>, should be <False>. Test was <unify ??? with ???>.\n",
      "Test 9: Failed, got <{}>, should be <False>. Test was <unify ??? with ???>.\n",
      ">>>  0 / 10 tests successful.\n"
     ]
    }
   ],
   "source": [
    "# Unifică formulele f1 și f2, sub o substituție existentă subst.\n",
    "# Rezultatul unificării este o substituție (dicționar nume-variabilă -> termen),\n",
    "#  astfel încât dacă se aplică substituția celor două formule, rezultatul este identic.\n",
    "def unify(f1, f2, subst = None):\n",
    "    # TODO\n",
    "    return {}\n",
    "\n",
    "# Test!\n",
    "test_batch(3, globals())"
   ]
  }
 ],
 "metadata": {
  "kernelspec": {
   "display_name": "Python 3",
   "language": "python",
   "name": "python3"
  },
  "language_info": {
   "codemirror_mode": {
    "name": "ipython",
    "version": 3
   },
   "file_extension": ".py",
   "mimetype": "text/x-python",
   "name": "python",
   "nbconvert_exporter": "python",
   "pygments_lexer": "ipython3",
   "version": "3.4.3"
  }
 },
 "nbformat": 4,
 "nbformat_minor": 0
}
