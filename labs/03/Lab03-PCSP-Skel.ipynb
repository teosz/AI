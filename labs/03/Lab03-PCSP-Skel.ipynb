{
 "cells": [
  {
   "cell_type": "markdown",
   "metadata": {},
   "source": [
    "# Laboratorul 3: Satisfacerea parțială a restricțiilor\n",
    " - Tudor Berariu\n",
    " - Andrei Olaru"
   ]
  },
  {
   "cell_type": "code",
   "execution_count": 81,
   "metadata": {
    "collapsed": false
   },
   "outputs": [],
   "source": [
    "from copy import copy, deepcopy\n",
    "from itertools import combinations"
   ]
  },
  {
   "cell_type": "markdown",
   "metadata": {},
   "source": [
    "## O problemă de satisfacere a restricțiilor\n",
    "\n",
    "O **problemă de satisfacere a restricțiilor** este definită de:\n",
    " - o mulțime discretă de **variabile**\n",
    " - câte un **domeniu de valori** pentru fiecare variabilă\n",
    " - un set de **constrângeri** impuse asupra unor grupuri de variabile\n",
    " \n",
    "Vom reprezenta în Python cele de mai sus astfel:\n",
    " - fiecare variabilă va fi reprezentată printr-un șir de caractere\n",
    "\n",
    "```\n",
    "Vars = [\"A\", \"B\", \"C\"]\n",
    "```\n",
    " - mulțimea domeniilor va fi un dicționar având câte o intrare pentru fiecare variabilă:\n",
    "    + cheie va fi numele variabilei\n",
    "    + valoare va fi domeniul de valori al acelei variabile\n",
    "\n",
    "```\n",
    "Domains = {\"A\": [1, 2, 3], \"B\": [1, 5, 9], \"C\": [-2, -1]}\n",
    "```\n",
    " - o constrângere va fi reprezentată printr-un tuplu format din:\n",
    "    + lista de variabile implicată în constrângere\n",
    "    + o funcție anonimă care întoarce `True` sau `False`\n",
    "\n",
    "```\n",
    "Constraints = [([\"A\", \"B\", \"C\"], lambda a, b, c: a + b + c == 0)]\n",
    "```\n",
    "\n",
    "Vom reprezenta o **soluție** printr-un dicționar ce indică o valoare pentru fiecare variabilă (e.g. `{\"A\": 1, \"B\": 1, \"C\" -2}`) și vom defini **costul** ca fiind egal cu numărul de constrângeri încălcate de acea soluție."
   ]
  },
  {
   "cell_type": "code",
   "execution_count": 82,
   "metadata": {
    "collapsed": true
   },
   "outputs": [],
   "source": [
    "Vars = [\"A\", \"B\", \"C\", \"D\", \"E\"]\n",
    "Domains = {v: [i for i in range(10)] for v in Vars}\n",
    "Constraints = [(list(p), lambda x,y: x != y) for p in combinations(Vars, 2)] # toate valorile diferite\n",
    "Constraints.append(([\"A\",\"B\"], lambda a,b: a + b == 10))\n",
    "Constraints.append(([\"B\",\"D\"], lambda b,d: b + d == 6))\n",
    "# Constraints.append(([\"B\",\"D\"], lambda c,e: c + e == 6))\n",
    "Constraints.append(([\"C\"], lambda c: c < 5))\n",
    "Constraints.append(([\"A\"], lambda a: a > 5))\n",
    "Constraints.append(([\"A\",\"B\",\"C\",\"D\",\"E\"], lambda a,b,c,d,e: a+b+c+d+e == 30))"
   ]
  },
  {
   "cell_type": "code",
   "execution_count": 83,
   "metadata": {
    "collapsed": true
   },
   "outputs": [],
   "source": [
    "VarsC = [\"France\", \"Germany\", \"Loux\", \"Belgium\", \"Netherlands\"]\n",
    "DomainsC = {v: [\"blue\", \"red\", \"yellow\", \"green\"] for v in VarsC}\n",
    "ConstraintsC = []\n",
    "for (a, b) in [(\"France\", \"Germany\"), (\"France\", \"Belgium\"), (\"France\", \"Loux\"),\n",
    "               (\"Belgium\", \"Netherlands\"), (\"Belgium\", \"Loux\"), (\"Belgium\", \"Germany\"),\n",
    "               (\"Loux\", \"Germany\"), (\"Netherlands\", \"Germany\")]:\n",
    "    ConstraintsC.append(([a, b], lambda a, b: a != b))"
   ]
  },
  {
   "cell_type": "markdown",
   "metadata": {},
   "source": [
    "## Cerința 1\n",
    "\n",
    "Implementați funcția `get_constraints` care primește o variabilă `var` și o listă de constrângeri `constraints` și întoarce doar acele constrângeri care implică variaibla dată.\n",
    "```\n",
    "Constraints = [([\"A\", \"B\"], lambda a,b: a<b), ([\"A\"], lambda a: a<5)]\n",
    "get_constraints(\"B\", Constraints)\n",
    "==> [([\"A\", \"B\"], lambda a,b: a<b)]\n",
    "get_constraints(\"A\", Constraints)\n",
    "==> [([\"A\", \"B\"], lambda a,b: a<b), ([\"A\"], lambda a: a<5)]\n",
    "```"
   ]
  },
  {
   "cell_type": "code",
   "execution_count": 84,
   "metadata": {
    "collapsed": false,
    "scrolled": true
   },
   "outputs": [
    {
     "data": {
      "text/plain": [
       "[(['France', 'Germany'], <function __main__.<lambda>>),\n",
       " (['France', 'Belgium'], <function __main__.<lambda>>),\n",
       " (['France', 'Loux'], <function __main__.<lambda>>)]"
      ]
     },
     "execution_count": 84,
     "metadata": {},
     "output_type": "execute_result"
    }
   ],
   "source": [
    "def get_constraints(var, constraints):\n",
    "    return list(filter(lambda constraint: var in constraint[0] , constraints))\n",
    "\n",
    "get_constraints(\"France\", ConstraintsC) # => [(['France', 'Germany'], ...), (['France', 'Belgium'], ...), (['France', 'Loux'], ...)]"
   ]
  },
  {
   "cell_type": "markdown",
   "metadata": {},
   "source": [
    "## Cerința 2\n",
    "\n",
    "Implementați funcția `fixed_constraints` care primește o soluție parțială `solution` și un set de constrângeri `constraints` și întoarce doar acele constrângeri care pot fi evaluate (i.e. variabilele implicate se regăsesc în soluția parțială)."
   ]
  },
  {
   "cell_type": "code",
   "execution_count": 85,
   "metadata": {
    "collapsed": false
   },
   "outputs": [
    {
     "name": "stdout",
     "output_type": "stream",
     "text": [
      "[(['France', 'Belgium'], <function <lambda> at 0x7fc8604f87b8>)]\n",
      "[(['A', 'C'], <function <listcomp>.<lambda> at 0x7fc8605adb70>), (['C'], <function <lambda> at 0x7fc860535950>), (['A'], <function <lambda> at 0x7fc8604f88c8>)]\n"
     ]
    }
   ],
   "source": [
    "def fixed_constraints(solution, constraints):\n",
    "    return list(filter(lambda constraint: set(constraint[0]).issubset(set(solution.keys())), constraints))\n",
    "\n",
    "print(fixed_constraints({\"France\": \"blue\", \"Belgium\": \"green\"}, ConstraintsC)) # => [(['France', 'Belgium'], ...)]\n",
    "print(fixed_constraints({\"A\": \"1\", \"C\": \"2\"}, Constraints)) # => [(['A', 'C'], ...), (['C'], ...), (['A'], ...)]"
   ]
  },
  {
   "cell_type": "markdown",
   "metadata": {},
   "source": [
    "## Cerința 3\n",
    "\n",
    "Implementați funcția `check_constraint` care primește o constrângere `constraint` și o soluție parțială `solution` și întoarce `True` dacă soluția respectă constrângerea și `False` altfel.\n",
    "\n",
    "**Hint:** utilizați `apply` în Python 2 sau notația cu steluță în Python 3 (vezi [aici](http://www.diveintopython3.net/porting-code-to-python-3-with-2to3.html#apply))."
   ]
  },
  {
   "cell_type": "code",
   "execution_count": 86,
   "metadata": {
    "collapsed": false
   },
   "outputs": [
    {
     "name": "stdout",
     "output_type": "stream",
     "text": [
      "True\n",
      "False\n"
     ]
    }
   ],
   "source": [
    "def check_constraint(solution, constraint):\n",
    "    cons = []\n",
    "    for x in constraint[0]:\n",
    "        cons.append(solution[x])\n",
    "    if constraint[1](*cons) is False:\n",
    "        return False\n",
    "    return True\n",
    "\n",
    "print(check_constraint({\"France\": \"blue\", \"Belgium\": \"green\"}, ConstraintsC[1])) # => True\n",
    "print(check_constraint({\"France\": \"blue\", \"Belgium\": \"blue\"}, ConstraintsC[1])) # => False"
   ]
  },
  {
   "cell_type": "markdown",
   "metadata": {},
   "source": [
    "## Cerința 4: PCSP\n",
    "\n",
    "Completați ceea ce lipsește în algoritmul PCSP.\n",
    "\n",
    "* `vars` -- variabilele care mai rămân de verificat\n",
    "* `domains` -- domeniile pentru variabilele care mai rămând de verificat, cu valorile care mai rămân de verificat pentru fiecare variabilă\n",
    "* `constrains` -- lista de constrângeri\n",
    "* `acceptable_cost` -- costul pentru care se consideră ca soluția este satisfăcătoare\n",
    "* `solution` -- soluția parțială, conținând valori pentru variabilele verificate până acum\n",
    "* `cost` -- costul soluției parțiale (`solution`) -- numărul de constrângeri nesatisfăcute\n",
    "\n",
    "Valoare întoarsă de funcție este `True` dacă a fost găsită o soluție completă satisfăcătoare (vezi costul acceptabil), și `False` altfel.\n",
    "\n",
    "Se folosesc două variabile globale:\n",
    "* `best_cost` -- cel mai bun (mic) cost întâlnit până acum în explorare, pentru o soluție completă\n",
    "* `best_solution` -- soluția corespunzătoare celui mai bun cost"
   ]
  },
  {
   "cell_type": "code",
   "execution_count": 90,
   "metadata": {
    "collapsed": false,
    "scrolled": true
   },
   "outputs": [
    {
     "name": "stdout",
     "output_type": "stream",
     "text": [
      "New best:  14  -  {'C': 0, 'D': 0, 'B': 0, 'A': 0, 'E': 0}\n",
      "New best:  10  -  {'C': 0, 'D': 0, 'B': 0, 'A': 0, 'E': 1}\n",
      "New best:  8  -  {'C': 0, 'D': 1, 'B': 0, 'A': 0, 'E': 1}\n",
      "New best:  7  -  {'C': 0, 'D': 1, 'B': 0, 'A': 0, 'E': 2}\n",
      "New best:  6  -  {'C': 0, 'D': 6, 'B': 0, 'A': 0, 'E': 1}\n",
      "New best:  5  -  {'C': 1, 'D': 2, 'B': 0, 'A': 0, 'E': 3}\n",
      "New best:  4  -  {'C': 1, 'D': 6, 'B': 0, 'A': 0, 'E': 2}\n",
      "New best:  3  -  {'C': 2, 'D': 5, 'B': 1, 'A': 0, 'E': 3}\n",
      "New best:  2  -  {'C': 4, 'D': 7, 'B': 8, 'A': 2, 'E': 9}\n",
      "New best:  1  -  {'C': 0, 'D': 2, 'B': 4, 'A': 6, 'E': 1}\n",
      "Best found: 1  -  {'C': 0, 'D': 2, 'B': 4, 'A': 6, 'E': 1}\n",
      "New best:  6  -  {'Netherlands': 'red', 'France': 'blue', 'Germany': 'blue', 'Loux': 'blue', 'Belgium': 'blue'}\n",
      "New best:  4  -  {'Netherlands': 'blue', 'France': 'blue', 'Germany': 'blue', 'Loux': 'blue', 'Belgium': 'red'}\n",
      "New best:  3  -  {'Netherlands': 'yellow', 'France': 'blue', 'Germany': 'blue', 'Loux': 'blue', 'Belgium': 'red'}\n",
      "New best:  2  -  {'Netherlands': 'yellow', 'France': 'blue', 'Germany': 'blue', 'Loux': 'red', 'Belgium': 'red'}\n",
      "New best:  1  -  {'Netherlands': 'red', 'France': 'blue', 'Germany': 'blue', 'Loux': 'red', 'Belgium': 'yellow'}\n",
      "Best found: 1  -  {'Netherlands': 'red', 'France': 'blue', 'Germany': 'blue', 'Loux': 'red', 'Belgium': 'yellow'}\n"
     ]
    }
   ],
   "source": [
    "def PCSP(vars, domains, constraints, acceptable_cost, solution, cost):\n",
    "    global best_solution\n",
    "    global best_cost\n",
    "    if not vars:\n",
    "        # Dacă nu mai sunt variabile, am ajuns la o soluție mai bună\n",
    "        print(\"New best: \", cost, \" - \", solution)\n",
    "        # TODO: salvați soluția nou-descoperită\n",
    "        # TODO: dacă este suficient de bună, funcția întoarce True\n",
    "        best_solution = solution\n",
    "        best_cost = cost\n",
    "        if cost <= acceptable_cost:\n",
    "            return True\n",
    "        else:\n",
    "            return False\n",
    "    \n",
    "    elif not domains[vars[0]]:\n",
    "        # Dacă nu mai sunt valori în domeniu, am terminat căutarea\n",
    "        return False\n",
    "    elif cost == best_cost:\n",
    "        # Dacă am ajuns deja la un cost identic cu cel al celei mai bune soluții, nu mergem mai departe\n",
    "        return False\n",
    "    else:\n",
    "        # TODO: Luăm prima variabilă și prima valoare din domeniu\n",
    "        new_domains = deepcopy(domains)\n",
    "        var = vars[0]\n",
    "        val = new_domains[var].pop(0)\n",
    "\n",
    "        # TODO: Construim noua soluție\n",
    "        new_solution = deepcopy(solution)\n",
    "        new_solution[var] = val;\n",
    "        # TODO: Obținem lista constrângerilor ce pot fi evaluate acum\n",
    "        # TODO:  Calculăm costul noii soluții parțiale (fiecare constrângere încălcată = 1)\n",
    "        new_cost = 0\n",
    "        for con in fixed_constraints(new_solution, constraints):\n",
    "            if not check_constraint(new_solution, con):\n",
    "                new_cost+=1\n",
    "\n",
    "        # Verificăm dacă noul cost este mai mic decât cel mai bun cost\n",
    "        if new_cost < best_cost:\n",
    "            # TODO:\n",
    "            # Dacă noul cost este mai mic decât cel mai bun cunoscut, rezolvăm pentru restul variabilelor\n",
    "            # Dacă apelul recursiv întoarce True, a fost găsită o soluție suficient de bună, deci întoarcem True\n",
    "            if PCSP(vars[1:], new_domains, constraints, acceptable_cost, new_solution, new_cost):\n",
    "                return True\n",
    "        # Verificăm pentru restul valorilor\n",
    "        # TODO:\n",
    "        if PCSP(vars, new_domains, constraints, acceptable_cost, solution, cost):\n",
    "            return True\n",
    "    \n",
    "# Un wrapper care să instanțieze variabilele globale\n",
    "def run_pcsp(vars, domains, constraints, acceptable_cost):\n",
    "    global best_solution\n",
    "    global best_cost\n",
    "\n",
    "    best_solution = {}\n",
    "    best_cost = len(constraints)\n",
    "\n",
    "    PCSP(vars, deepcopy(domains), constraints, acceptable_cost, {}, 0)\n",
    "    \n",
    "    print(\"Best found:\", best_cost, \" - \", best_solution)\n",
    "\n",
    "# Rulăm măgăria\n",
    "run_pcsp(Vars, Domains, Constraints, 1)\n",
    "run_pcsp(VarsC, DomainsC, ConstraintsC, 1)"
   ]
  },
  {
   "cell_type": "markdown",
   "metadata": {
    "collapsed": true
   },
   "source": [
    "Expected for numbers:\n",
    "\n",
    "```\n",
    "New best:  15  -  {'A': 0, 'C': 0, 'B': 0, 'E': 0, 'D': 0}\n",
    "New best:  11  -  {'A': 0, 'C': 0, 'B': 0, 'E': 1, 'D': 0}\n",
    "New best:  9  -  {'A': 0, 'C': 0, 'B': 0, 'E': 1, 'D': 1}\n",
    "New best:  8  -  {'A': 0, 'C': 0, 'B': 0, 'E': 2, 'D': 1}\n",
    "New best:  6  -  {'A': 0, 'C': 0, 'B': 0, 'E': 1, 'D': 6}\n",
    "New best:  5  -  {'A': 0, 'C': 1, 'B': 0, 'E': 1, 'D': 6}\n",
    "New best:  4  -  {'A': 0, 'C': 1, 'B': 0, 'E': 2, 'D': 6}\n",
    "New best:  3  -  {'A': 0, 'C': 2, 'B': 1, 'E': 3, 'D': 5}\n",
    "New best:  2  -  {'A': 4, 'C': 1, 'B': 6, 'E': 2, 'D': 0}\n",
    "New best:  1  -  {'A': 6, 'C': 0, 'B': 4, 'E': 1, 'D': 2}\n",
    "Best found: 1  -  {'A': 6, 'C': 0, 'B': 4, 'E': 1, 'D': 2}\n",
    "```\n",
    "\n",
    "Expected for country colors:\n",
    "\n",
    "```\n",
    "New best:  8  -  {'Loux': 'blue', 'Belgium': 'blue', 'Netherlands': 'blue', 'Germany': 'blue', 'France': 'blue'}\n",
    "New best:  6  -  {'Loux': 'blue', 'Belgium': 'blue', 'Netherlands': 'red', 'Germany': 'blue', 'France': 'blue'}\n",
    "New best:  4  -  {'Loux': 'blue', 'Belgium': 'red', 'Netherlands': 'blue', 'Germany': 'blue', 'France': 'blue'}\n",
    "New best:  3  -  {'Loux': 'blue', 'Belgium': 'red', 'Netherlands': 'yellow', 'Germany': 'blue', 'France': 'blue'}\n",
    "New best:  2  -  {'Loux': 'red', 'Belgium': 'red', 'Netherlands': 'yellow', 'Germany': 'blue', 'France': 'blue'}\n",
    "New best:  1  -  {'Loux': 'red', 'Belgium': 'yellow', 'Netherlands': 'red', 'Germany': 'blue', 'France': 'blue'}\n",
    "Best found: 1  -  {'Loux': 'red', 'Belgium': 'yellow', 'Netherlands': 'red', 'Germany': 'blue', 'France': 'blue'}\n",
    "```"
   ]
  }
 ],
 "metadata": {
  "kernelspec": {
   "display_name": "Python 3",
   "language": "python",
   "name": "python3"
  },
  "language_info": {
   "codemirror_mode": {
    "name": "ipython",
    "version": 3
   },
   "file_extension": ".py",
   "mimetype": "text/x-python",
   "name": "python",
   "nbconvert_exporter": "python",
   "pygments_lexer": "ipython3",
   "version": "3.4.3"
  }
 },
 "nbformat": 4,
 "nbformat_minor": 0
}
