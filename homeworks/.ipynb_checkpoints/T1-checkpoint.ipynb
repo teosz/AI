{
 "cells": [
  {
   "cell_type": "code",
   "execution_count": 15,
   "metadata": {
    "collapsed": false
   },
   "outputs": [],
   "source": [
    "from T1testing import tt_TA"
   ]
  },
  {
   "cell_type": "code",
   "execution_count": 16,
   "metadata": {
    "collapsed": false,
    "scrolled": false
   },
   "outputs": [],
   "source": [
    "def powerset(s):\n",
    "    x = len(s)\n",
    "    for i in range(1 << x):\n",
    "    return [s[j] for j in range(x) if (i & (1 << j))]\n",
    "def decode(alphabet, inputCode, dictionary):\n",
    "    print(alphabet)\n",
    "    print(inputCode)\n",
    "    print(dictionary)\n",
    "    return []"
   ]
  },
  {
   "cell_type": "code",
   "execution_count": 17,
   "metadata": {
    "collapsed": false
   },
   "outputs": [
    {
     "name": "stdout",
     "output_type": "stream",
     "text": [
      "======================================= input ( length = 3 ):\n",
      "-.-\n",
      "{'Y': '-.--', 'C': '-.-.', 'E': '.', 'J': '.---', 'Q': '--.-', 'D': '-..', 'W': '.--', 'N': '-.', 'P': '.--.', 'T': '-', 'M': '--', 'X': '-..-', 'O': '---', 'L': '.-..', 'R': '.-.', 'F': '..-.', 'H': '....', 'A': '.-', 'S': '...', 'Z': '--..', 'I': '..', 'G': '--.', 'V': '...-', 'B': '-...', 'U': '..-', 'K': '-.-'}\n",
      "-.-\n",
      "['A', 'B', 'C', 'HELLO', 'K', 'WORLD']\n",
      "======================================= solution:\n",
      "0 solution(s):  \n",
      "=======================================\n",
      "number of solutions is incorrect. Should be 1\n",
      "FAILED\n",
      "======================================= input ( length = 12 ):\n",
      "--.-------..\n",
      "{'Y': '-.--', 'C': '-.-.', 'E': '.', 'J': '.---', 'Q': '--.-', 'D': '-..', 'W': '.--', 'N': '-.', 'P': '.--.', 'T': '-', 'M': '--', 'X': '-..-', 'O': '---', 'L': '.-..', 'R': '.-.', 'F': '..-.', 'H': '....', 'A': '.-', 'S': '...', 'Z': '--..', 'I': '..', 'G': '--.', 'V': '...-', 'B': '-...', 'U': '..-', 'K': '-.-'}\n",
      "--.-------..\n",
      "['GOD', 'GOOD', 'MORNING', 'G', 'HELLO']\n",
      "======================================= solution:\n",
      "0 solution(s):  \n",
      "=======================================\n",
      "number of solutions is incorrect. Should be 1\n",
      "FAILED\n",
      "======================================= input ( length = 32 ):\n",
      "......-...-..---.-----.-..-..-..\n",
      "{'Y': '-.--', 'C': '-.-.', 'E': '.', 'J': '.---', 'Q': '--.-', 'D': '-..', 'W': '.--', 'N': '-.', 'P': '.--.', 'T': '-', 'M': '--', 'X': '-..-', 'O': '---', 'L': '.-..', 'R': '.-.', 'F': '..-.', 'H': '....', 'A': '.-', 'S': '...', 'Z': '--..', 'I': '..', 'G': '--.', 'V': '...-', 'B': '-...', 'U': '..-', 'K': '-.-'}\n",
      "......-...-..---.-----.-..-..-..\n",
      "['HELL', 'HELLO', 'OWORLD', 'WORLD', 'TEST']\n",
      "======================================= solution:\n",
      "0 solution(s):  \n",
      "=======================================\n",
      "number of solutions is incorrect. Should be 2\n",
      "FAILED\n"
     ]
    }
   ],
   "source": [
    "tt_TA(decode)"
   ]
  }
 ],
 "metadata": {
  "kernelspec": {
   "display_name": "Python 3",
   "language": "python",
   "name": "python3"
  },
  "language_info": {
   "codemirror_mode": {
    "name": "ipython",
    "version": 3
   },
   "file_extension": ".py",
   "mimetype": "text/x-python",
   "name": "python",
   "nbconvert_exporter": "python",
   "pygments_lexer": "ipython3",
   "version": "3.4.3"
  }
 },
 "nbformat": 4,
 "nbformat_minor": 0
}
